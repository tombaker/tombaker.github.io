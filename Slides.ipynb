{
 "metadata": {
  "celltoolbar": "Slideshow",
  "name": "",
  "signature": "sha256:103f8ba2fd293240becd59b3c09b95de79fb720b5a19806e0eb32650e3135828"
 },
 "nbformat": 3,
 "nbformat_minor": 0,
 "worksheets": [
  {
   "cells": [
    {
     "cell_type": "markdown",
     "metadata": {
      "slideshow": {
       "slide_type": "slide"
      }
     },
     "source": [
      "## Group 5: ''Overfishing in the Pacific Ocean''\n",
      "\n",
      "Authors:   \n",
      "* Shin Hyesung   \n",
      "* Yoo Youngjae  \n",
      "* Jung Daehyun   \n",
      "\n",
      "Course:   \n",
      "* \"Designing Semantic Web Systems\", Fall 2014  \n",
      "* iSchool, Sungkyunkwan University   \n",
      "* Prof. Thomas Baker   \n",
      "* 2014-11-25     \n",
      "\n",
      "This presentation describes a hypothetical application to demonstrate how Linked Data -- data expressed in RDF, a language based on globally unique Web identifiers and a simple statement structure -- can be integrated from multiple different sources and queried as a whole.\n",
      "\n",
      "The presentation has been prepared by a group of students as their term project for an undergraduate course at the Sungkyunkwan University Department of Library and Information Science."
     ]
    },
    {
     "cell_type": "markdown",
     "metadata": {
      "slideshow": {
       "slide_type": "skip"
      }
     },
     "source": [
      "Filename: **Group5_20141125.ipynb**    \n",
      "Email subject line: **[SWDESIGN] Group5_20141125.ipynb**  \n",
      "Submitted to: **tom@tombaker.org**  \n",
      "Data files produced:\n",
      "* **group5_skosconcepts.ttl**  (SKOS concepts coined for this project)\n",
      "\n",
      "Data files used: \n",
      "* **group5_organizations.ttl** (produced by notebook **Group5_ShinHyesung_20141118.ipynb**) \n",
      "* **group5_maps.ttl** (produced by notebook **Group5_YooYoungjae_20141118.ipynb**)  \n",
      "* **group5_research.ttl** (produced by notebook **Group5_JungDaehyun_20141118.ipynb**)"
     ]
    },
    {
     "cell_type": "markdown",
     "metadata": {
      "slideshow": {
       "slide_type": "slide"
      }
     },
     "source": [
      "### 1. Data Shapes\n",
      "\n",
      "Our group has data about three things related to overfishing in the Pacific Ocean:    \n",
      "* \"organizations\", with data both about non-governmental organizations devoted to the problem of overfishing, and about commercial fishing companies.   \n",
      "* \"maps\", showing...   \n",
      "* \"journal articles\", which discuss...   "
     ]
    },
    {
     "cell_type": "markdown",
     "metadata": {
      "slideshow": {
       "slide_type": "slide"
      }
     },
     "source": [
      "##### Data Shape for descriptions of \"organizations\"\n",
      "\n",
      "In our project, \"organizations\" are described with the following properties and classes:  \n",
      "* Class of the organization\n",
      "  * The organization may be an instance of a Company, NGO, or Government Agency\n",
      "* Properties\n",
      "  * Name of the organization (**foaf:name**)\n",
      "  * \"Interested In\": the types of fish that the organization is \"interested in\"\n",
      "    * Values of \"interested in\" are SKOS concepts for Tuna or Swordfish\n",
      "  * Parent organization\n",
      "    * Name of the parent organization (**foaf:name**)\n",
      "  * Description of the organization\n",
      "  * Etc"
     ]
    },
    {
     "cell_type": "markdown",
     "metadata": {
      "slideshow": {
       "slide_type": "slide"
      }
     },
     "source": [
      "##### Data Shape for descriptions of \"maps\"\n",
      "\n",
      "*Etc...*"
     ]
    },
    {
     "cell_type": "markdown",
     "metadata": {
      "slideshow": {
       "slide_type": "slide"
      }
     },
     "source": [
      "##### Data Shape for descriptions of \"journal articles\"\n",
      "\n",
      "*Etc...*"
     ]
    },
    {
     "cell_type": "code",
     "collapsed": false,
     "input": [
      "# Declare any SKOS concepts here, but mark the Slide Type as \"skip\" \n",
      "# (unless you want to show them in your presentation.)\n",
      "\n",
      "group5_skosconcepts = \"\"\"\n",
      "@prefix :      <http://example.org/> .\n",
      "@prefix nalt:  <http://lod.nal.usda.gov/nalt/> .\n",
      "@prefix skos:  <http://www.w3.org/2004/02/skos/core#> .\n",
      "@prefix rdf:   <http://www.w3.org/1999/02/22-rdf-syntax-ns#> .\n",
      "@prefix dc:    <http://purl.org/dc/terms/> .\n",
      "\n",
      ":HarborSeal  rdf:type       skos:Concept ;\n",
      "             skos:inScheme   :p_babb580concepts ;\n",
      "             skos:broadMatch    nalt:c_51487 ;\n",
      "             skos:broader      :Seal ;\n",
      "             skos:prefLabel  \"Harbor Seal\"@en  .\n",
      "\"\"\"\n",
      "%store group5_skosconcepts >group5_skosconcepts.ttl"
     ],
     "language": "python",
     "metadata": {
      "slideshow": {
       "slide_type": "skip"
      }
     },
     "outputs": [
      {
       "output_type": "stream",
       "stream": "stdout",
       "text": [
        "Writing 'group5_skosconcepts' (str) to file 'group5_skosconcepts.ttl'.\n"
       ]
      }
     ],
     "prompt_number": 1
    },
    {
     "cell_type": "markdown",
     "metadata": {
      "slideshow": {
       "slide_type": "slide"
      }
     },
     "source": [
      "### 3. Three example queries using SPARQL\n",
      "\n",
      "#### Query 1: What do researchers...\n",
      "\n",
      "This query uses the fact that \"tuna\" (that is, the SKOS concept for tuna) is the subject both of research articles and of distribution maps."
     ]
    },
    {
     "cell_type": "code",
     "collapsed": false,
     "input": [
      "%%script bash\n",
      "sparql --data group5_organizations.ttl --data group5_maps.ttl --data group5_research.ttl '\n",
      "PREFIX : <http://example.org/>\n",
      "\n",
      "SELECT ?x\n",
      "WHERE { ?x ?p ?y }\n",
      "'"
     ],
     "language": "python",
     "metadata": {
      "slideshow": {
       "slide_type": "slide"
      }
     },
     "outputs": [
      {
       "output_type": "stream",
       "stream": "stderr",
       "text": [
        "Failed to load data\n"
       ]
      }
     ],
     "prompt_number": 2
    },
    {
     "cell_type": "markdown",
     "metadata": {
      "slideshow": {
       "slide_type": "slide"
      }
     },
     "source": [
      "#### Query 2: In the Sea of Japan...\n",
      "\n",
      "This query uses the fact that maps and organizations are tagged with SKOS concepts for parts of the ocean. ..."
     ]
    },
    {
     "cell_type": "code",
     "collapsed": false,
     "input": [
      "%%script bash\n",
      "sparql --data group5_organizations.ttl --data group5_maps.ttl --data group5_research.ttl '\n",
      "PREFIX : <http://example.org/>\n",
      "\n",
      "SELECT ?x\n",
      "WHERE { ?x ?p ?y }\n",
      "'"
     ],
     "language": "python",
     "metadata": {
      "slideshow": {
       "slide_type": "slide"
      }
     },
     "outputs": [
      {
       "output_type": "stream",
       "stream": "stderr",
       "text": [
        "Failed to load data\n"
       ]
      }
     ],
     "prompt_number": 3
    },
    {
     "cell_type": "markdown",
     "metadata": {
      "slideshow": {
       "slide_type": "slide"
      }
     },
     "source": [
      "#### Query 3: ..."
     ]
    },
    {
     "cell_type": "code",
     "collapsed": false,
     "input": [
      "%%script bash\n",
      "sparql --data group5_organizations.ttl --data group5_maps.ttl --data group5_research.ttl '\n",
      "PREFIX : <http://example.org/>\n",
      "\n",
      "SELECT ?x\n",
      "WHERE { ?x ?p ?y }\n",
      "'"
     ],
     "language": "python",
     "metadata": {
      "slideshow": {
       "slide_type": "slide"
      }
     },
     "outputs": [
      {
       "output_type": "stream",
       "stream": "stderr",
       "text": [
        "Failed to load data\n"
       ]
      }
     ],
     "prompt_number": 4
    },
    {
     "cell_type": "markdown",
     "metadata": {
      "slideshow": {
       "slide_type": "slide"
      }
     },
     "source": [
      "### 4. How Query 3 can be improved through [pick one:] mapping, query expansion, or inferencing\n",
      "\n",
      "* Example using mapping: \"maps\" are tagged with AGROVOC concepts, and \"research articles\" are tagged with NALT concepts...\n",
      "* Example using query expansion: Tuna and Swordfish have skos:broader Fish...\n",
      "* Example using inference: NGOs and fishing companies are both rdf:type Organization..."
     ]
    }
   ],
   "metadata": {}
  }
 ]
}