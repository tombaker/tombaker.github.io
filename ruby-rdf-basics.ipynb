{
 "cells": [
  {
   "cell_type": "markdown",
   "metadata": {},
   "source": [
    "# Ruby RDF basics\n",
    "\n",
    "* At Gregg's request, April 2016.\n",
    "* Note that the following code, spread over three input/output cells, could have been aggregated into just one cell."
   ]
  },
  {
   "cell_type": "markdown",
   "metadata": {},
   "source": [
    "### Spread out over three cells\n",
    "\n",
    "As in IRB or Pry, shows what each expression returns."
   ]
  },
  {
   "cell_type": "code",
   "execution_count": 1,
   "metadata": {
    "collapsed": false
   },
   "outputs": [
    {
     "data": {
      "text/plain": [
       "true"
      ]
     },
     "execution_count": 1,
     "metadata": {},
     "output_type": "execute_result"
    }
   ],
   "source": [
    "require 'RDF'"
   ]
  },
  {
   "cell_type": "code",
   "execution_count": 2,
   "metadata": {
    "collapsed": false
   },
   "outputs": [
    {
     "name": "stderr",
     "output_type": "stream",
     "text": [
      "/Users/tbaker/.rvm/gems/ruby-2.2.3/gems/rdf-1.99.1/lib/rdf.rb:57: warning: already initialized constant RDF::VOCABS\n",
      "/Users/tbaker/.rvm/gems/ruby-2.2.3/gems/rdf-1.99.1/lib/RDF.rb:57: warning: previous definition of VOCABS was here\n"
     ]
    },
    {
     "data": {
      "text/plain": [
       "#<RDF::Graph:0x3fdecd4b57f8(default)>"
      ]
     },
     "execution_count": 2,
     "metadata": {},
     "output_type": "execute_result"
    }
   ],
   "source": [
    "graph = RDF::Graph.new do |g|\n",
    "  g << RDF::Statement.new(:a, RDF.type, \"b\")\n",
    "end"
   ]
  },
  {
   "cell_type": "code",
   "execution_count": 3,
   "metadata": {
    "collapsed": false
   },
   "outputs": [
    {
     "name": "stdout",
     "output_type": "stream",
     "text": [
      "_:a <http://www.w3.org/1999/02/22-rdf-syntax-ns#type> \"b\" .\n",
      "\n"
     ]
    }
   ],
   "source": [
    "puts graph.dump(:ntriples)"
   ]
  },
  {
   "cell_type": "markdown",
   "metadata": {},
   "source": [
    "### Aggregated into one cell\n",
    "\n",
    "* Note that when run the second time, there are no warnings about RDF::VOCABS and VOCABS."
   ]
  },
  {
   "cell_type": "code",
   "execution_count": 4,
   "metadata": {
    "collapsed": false
   },
   "outputs": [
    {
     "name": "stdout",
     "output_type": "stream",
     "text": [
      "_:b <http://www.w3.org/1999/02/22-rdf-syntax-ns#type> \"c\" .\n",
      "\n"
     ]
    }
   ],
   "source": [
    "require 'RDF'\n",
    "graph = RDF::Graph.new do |g|\n",
    "  g << RDF::Statement.new(:b, RDF.type, \"c\")\n",
    "end\n",
    "puts graph.dump(:ntriples)"
   ]
  }
 ],
 "metadata": {
  "kernelspec": {
   "display_name": "Ruby 2.2.3",
   "language": "ruby",
   "name": "ruby"
  },
  "language_info": {
   "file_extension": ".rb",
   "mimetype": "application/x-ruby",
   "name": "ruby",
   "version": "2.2.3"
  }
 },
 "nbformat": 4,
 "nbformat_minor": 0
}
